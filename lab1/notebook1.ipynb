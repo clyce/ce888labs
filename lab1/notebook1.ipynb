{
 "cells": [
  {
   "cell_type": "markdown",
   "metadata": {},
   "source": [
    "# CE888: Data Science and Decision Making Lab 1\n"
   ]
  },
  {
   "cell_type": "markdown",
   "metadata": {},
   "source": [
    "Over today's practice you'll learn:\n",
    "* to use JuPyter notebooks to quickly prototype code and show results\n",
    "* the numerical Python library\n",
    "\n",
    "This lab is divided in two parts. In each of them, you will have to fill in the gaps following the instructions given.\n",
    "The prompts for you to write code will look like this:"
   ]
  },
  {
   "cell_type": "code",
   "execution_count": 1,
   "metadata": {},
   "outputs": [],
   "source": [
    "#<------------INSERT CODE HERE------------>"
   ]
  },
  {
   "cell_type": "markdown",
   "metadata": {},
   "source": [
    "This might involve more than one line of code from you!\n",
    "\n",
    "Do **not** delete code from the notebook.\n",
    "\n",
    "Let's start!"
   ]
  },
  {
   "cell_type": "markdown",
   "metadata": {},
   "source": [
    "## Part 1\n",
    "\n",
    "In the first part of the lab we're going to check your Python skills and, in particular, we will ask you to create some functions to operate on vectors and matrices.\n",
    "\n"
   ]
  },
  {
   "cell_type": "markdown",
   "metadata": {},
   "source": [
    "### Operations with vectors"
   ]
  },
  {
   "cell_type": "code",
   "execution_count": 2,
   "metadata": {},
   "outputs": [
    {
     "name": "stdout",
     "output_type": "stream",
     "text": [
      "[1, 2, 4, 78, 93]\n",
      "The vector has 5 elements\n"
     ]
    }
   ],
   "source": [
    "# Let's create a vector. We can do this as a Python built-in type: the list\n",
    "vector1 = [1, 2, 4, 78, 93] # we declare the vector as a list of elements\n",
    "\n",
    "print(vector1)\n",
    "print(\"The vector has %d elements\" % len(vector1))"
   ]
  },
  {
   "cell_type": "code",
   "execution_count": 3,
   "metadata": {},
   "outputs": [],
   "source": [
    "# Let's add a number to every element of the vector.\n",
    "## Exercise: create a function that, given a vector and a number,\n",
    "## returns the addition of that number to each element of the vector\n",
    "def vector_plus_num(vector, number):\n",
    "    return [x + number for x in vector]"
   ]
  },
  {
   "cell_type": "code",
   "execution_count": 4,
   "metadata": {},
   "outputs": [
    {
     "name": "stdout",
     "output_type": "stream",
     "text": [
      "[6, 7, 9, 83, 98]\n",
      "[-32, -31, -29, 45, 60]\n"
     ]
    }
   ],
   "source": [
    "# Let's test your function:\n",
    "print(vector_plus_num(vector1, 5))\n",
    "print(vector_plus_num(vector1, -33))"
   ]
  },
  {
   "cell_type": "markdown",
   "metadata": {},
   "source": [
    "What if we now wanted to mutiply a number and a vector? **Do not do it**, just think about what you'd need!"
   ]
  },
  {
   "cell_type": "markdown",
   "metadata": {},
   "source": [
    "And what if we want to calculate the mean value of your vector?"
   ]
  },
  {
   "cell_type": "code",
   "execution_count": 5,
   "metadata": {},
   "outputs": [],
   "source": [
    "## Exercise: create a function that, given a vector,\n",
    "## returns the mean value of its elements.\n",
    "def vector_mean(vector):\n",
    "    return sum(vector)/len(vector)"
   ]
  },
  {
   "cell_type": "code",
   "execution_count": 6,
   "metadata": {},
   "outputs": [
    {
     "name": "stdout",
     "output_type": "stream",
     "text": [
      "35.6\n"
     ]
    }
   ],
   "source": [
    "# Now test your function:\n",
    "print(vector_mean(vector1))"
   ]
  },
  {
   "cell_type": "markdown",
   "metadata": {},
   "source": [
    "We will now work on operations between pairs of vectors."
   ]
  },
  {
   "cell_type": "code",
   "execution_count": 7,
   "metadata": {},
   "outputs": [],
   "source": [
    "# Now let's create a new vector, called vector2, of the same length as vector1.\n",
    "# We will then look at operations with multiple vectors, \n",
    "# such as adding and subtracting them, and vector multiplications.\n",
    "vector2 = [10, 24, 10, 10, 315]#<------------INSERT CODE HERE------------>\n",
    "\n",
    "assert len(vector1) == len(vector2), \"The vectors are not of the same length\""
   ]
  },
  {
   "cell_type": "code",
   "execution_count": 8,
   "metadata": {},
   "outputs": [],
   "source": [
    "# Create a function that returns new vector of the same length as vector1 and vector2, \n",
    "# for which each element is the sum of the corresponding elements from vector1 and vector2.\n",
    "\n",
    "# Feel free to create a function to do this!\n",
    "\n",
    "def add_two_vectors(vec1, vec2):\n",
    "    return [x+y for (x,y) in zip(vec1,vec2)]"
   ]
  },
  {
   "cell_type": "code",
   "execution_count": 9,
   "metadata": {},
   "outputs": [
    {
     "name": "stdout",
     "output_type": "stream",
     "text": [
      "[11, 26, 14, 88, 408]\n",
      "[2, 4, 7]\n"
     ]
    }
   ],
   "source": [
    "# Let's test your function:\n",
    "print(add_two_vectors(vector1, vector2))\n",
    "print(add_two_vectors(vector1, [1, 2, 3]))\n",
    "# If the second print resulted in an error, don't worry about it for now!"
   ]
  },
  {
   "cell_type": "markdown",
   "metadata": {},
   "source": [
    "How about the multiplication of vectors?\n",
    "There are two types of vector multiplications:\n",
    "* The dot product (or scalar product) takes two vectors and returns a scalar.\n",
    "* The cross product (or vector product) takes two vectors and returns another vector."
   ]
  },
  {
   "cell_type": "markdown",
   "metadata": {},
   "source": [
    "Now let's create a function that returns the scalar product of two vectors.\n",
    "\n",
    "This can be done by multiplying pairs of elements and adding the result:\n",
    "\n",
    "A = [A1, A2, A3, ..., An]\n",
    "\n",
    "B = [B1, B2, B3, ..., Bn]\n",
    "\n",
    "A · B = A1·B1 + A2·B2 + ... An·Bn"
   ]
  },
  {
   "cell_type": "code",
   "execution_count": 10,
   "metadata": {},
   "outputs": [],
   "source": [
    "def scalar_product(v1, v2):\n",
    "    return sum([x*y for (x,y) in zip(v1,v2)])"
   ]
  },
  {
   "cell_type": "code",
   "execution_count": 11,
   "metadata": {},
   "outputs": [
    {
     "name": "stdout",
     "output_type": "stream",
     "text": [
      "30173\n",
      "17\n"
     ]
    }
   ],
   "source": [
    "# Test your function\n",
    "print(scalar_product(vector1, vector2))\n",
    "print(scalar_product(vector1, [1, 2, 3]))"
   ]
  },
  {
   "cell_type": "markdown",
   "metadata": {},
   "source": [
    "### Operations with matrices\n",
    "\n",
    "Again, there are multiple things we can do with matrices. For example, adding/subtracting/multiplying a number to each element of a matrix and matrix multiplication.\n",
    "\n",
    "We're going to attempt the last one only."
   ]
  },
  {
   "cell_type": "code",
   "execution_count": 89,
   "metadata": {},
   "outputs": [],
   "source": [
    "# Create a function that receives two matrices as input and returns the matrix multiplication of the two\n",
    "# If you don't know how to multiply two matrices, check:\n",
    "# https://en.wikipedia.org/wiki/Matrix_multiplication#Definition\n",
    "\n",
    "def matrix_multiplication(matrix1, matrix2):\n",
    "    return [[scalar_product(matrix1[i], \n",
    "                            [row[j] \n",
    "                             for row \n",
    "                             in matrix2])\n",
    "             for j \n",
    "             in range(len(matrix2[0]))] \n",
    "            for i \n",
    "            in range(len(matrix1))]"
   ]
  },
  {
   "cell_type": "code",
   "execution_count": 90,
   "metadata": {},
   "outputs": [],
   "source": [
    "# And let's test your function:\n",
    "# NOTE: some of the tests below will give errors. Don't worry about them!\n",
    "matrixA = [[1, 2, 3], [1, 2, 3]]\n",
    "matrixB = [[5, 6, 7], [5, 6, 7], [5, 6, 7]]\n",
    "matrixC = [[8, 9], [8, 9], [8, 9], [8, 9]]\n",
    "matrixD = [[10, 11], [10, 11], [10, 11]]"
   ]
  },
  {
   "cell_type": "code",
   "execution_count": 91,
   "metadata": {},
   "outputs": [
    {
     "name": "stdout",
     "output_type": "stream",
     "text": [
      "[[30, 36, 42], [30, 36, 42]]\n"
     ]
    }
   ],
   "source": [
    "print(matrix_multiplication(matrixA, matrixB))"
   ]
  },
  {
   "cell_type": "code",
   "execution_count": 92,
   "metadata": {},
   "outputs": [
    {
     "name": "stdout",
     "output_type": "stream",
     "text": [
      "[[48, 54], [48, 54]]\n"
     ]
    }
   ],
   "source": [
    "print(matrix_multiplication(matrixA, matrixC))"
   ]
  },
  {
   "cell_type": "code",
   "execution_count": 93,
   "metadata": {},
   "outputs": [
    {
     "name": "stdout",
     "output_type": "stream",
     "text": [
      "[[21, 42, 63], [21, 42, 63], [21, 42, 63]]\n"
     ]
    }
   ],
   "source": [
    "print(matrix_multiplication(matrixD, matrixA))"
   ]
  },
  {
   "cell_type": "markdown",
   "metadata": {},
   "source": [
    "Hopefully this has convinced you that operating with vectors and matrices like this is not the best way.\n",
    "Now we will turn to the second part of this lab, in which you will be introduced to the numerical Python library, *numpy*."
   ]
  },
  {
   "cell_type": "markdown",
   "metadata": {},
   "source": [
    "## Part 2: Numpy\n"
   ]
  },
  {
   "cell_type": "markdown",
   "metadata": {},
   "source": [
    "Numpy has a built-in type called the *ndarray*. "
   ]
  },
  {
   "cell_type": "code",
   "execution_count": 17,
   "metadata": {},
   "outputs": [],
   "source": [
    "import numpy as np # Importing convention for Numpy"
   ]
  },
  {
   "cell_type": "markdown",
   "metadata": {},
   "source": [
    "#### Creating and manipulating arrays"
   ]
  },
  {
   "cell_type": "code",
   "execution_count": 18,
   "metadata": {},
   "outputs": [
    {
     "name": "stdout",
     "output_type": "stream",
     "text": [
      "[1. 2. 3.]\n",
      "float32\n",
      "[1.+2.j 3.-4.j]\n",
      "complex64\n",
      "[False  True  True]\n",
      "bool\n",
      "[[1 2 3]\n",
      " [1 2 3]]\n",
      "int64\n",
      "(2, 3)\n",
      "[ 10  24  10  10 315]\n",
      "int64\n",
      "(5,)\n"
     ]
    }
   ],
   "source": [
    "# Create arrays with a specified data type\n",
    "\n",
    "arr = np.array([1, 2, 3], dtype=np.float32)\n",
    "print(arr)\n",
    "print(arr.dtype)\n",
    "\n",
    "arr = np.array([1+2j, 3-4j], dtype=np.complex64)  # an array of complex numbers\n",
    "print(arr)\n",
    "print(arr.dtype)\n",
    "\n",
    "arr = np.array([0, 1, 1], dtype=np.bool)  # an array of True/False values\n",
    "print(arr)\n",
    "print(arr.dtype)\n",
    "\n",
    "# We can also create arrays from the vectors and matrices we had before.\n",
    "arr = np.array(matrixA)\n",
    "print(arr)\n",
    "print(arr.dtype)\n",
    "print(arr.shape)\n",
    "\n",
    "arr = np.array(vector2)\n",
    "print(arr)\n",
    "print(arr.dtype)\n",
    "print(arr.shape)\n"
   ]
  },
  {
   "cell_type": "code",
   "execution_count": 19,
   "metadata": {},
   "outputs": [
    {
     "name": "stdout",
     "output_type": "stream",
     "text": [
      "[0 1 2 3 4 5 6 7 8 9]\n",
      "shape: (10,)\n",
      "dtype: int64\n",
      "dim: 1\n",
      "itemsize: 8\n"
     ]
    }
   ],
   "source": [
    "arr_range2 = np.arange(10)\n",
    "print(arr_range2)\n",
    "\n",
    "# Retrieving information on the array\n",
    "print(\"shape:\", arr_range2.shape)\n",
    "print(\"dtype:\", arr_range2.dtype)\n",
    "print(\"dim:\", arr_range2.ndim)\n",
    "print(\"itemsize:\", arr_range2.itemsize)"
   ]
  },
  {
   "cell_type": "code",
   "execution_count": 20,
   "metadata": {},
   "outputs": [
    {
     "name": "stdout",
     "output_type": "stream",
     "text": [
      "[ 0  5 10 15 20 25 30 35 40 45 50 55 60 65 70 75 80 85 90 95]\n",
      "[ 0.          0.52631579  1.05263158  1.57894737  2.10526316  2.63157895\n",
      "  3.15789474  3.68421053  4.21052632  4.73684211  5.26315789  5.78947368\n",
      "  6.31578947  6.84210526  7.36842105  7.89473684  8.42105263  8.94736842\n",
      "  9.47368421 10.        ]\n"
     ]
    }
   ],
   "source": [
    "# We can use the np.arange function to create a range of values:\n",
    "arr = np.arange(0, 100, 5) #np.arange(start, stop, pace)\n",
    "print(arr)\n",
    "# Note: is the last value (100) included?\n",
    "\n",
    "# Similarly, we can use np.linspace:\n",
    "# np.linspace(start, stop, num_of_elements, endpoint=True) \n",
    "arr = np.linspace(0, 10, 20)\n",
    "print(arr)\n",
    "# Note: is the last value (10) included now?"
   ]
  },
  {
   "cell_type": "code",
   "execution_count": 21,
   "metadata": {},
   "outputs": [
    {
     "name": "stdout",
     "output_type": "stream",
     "text": [
      "[[1.5 2.  3. ]\n",
      " [4.  5.  6. ]]\n",
      "(2, 3)\n"
     ]
    }
   ],
   "source": [
    "arr_2d = np.array([(1.5, 2, 3), (4, 5, 6)]) # creating an array from a list of tuples\n",
    "print(arr_2d)\n",
    "print(arr_2d.shape)"
   ]
  },
  {
   "cell_type": "code",
   "execution_count": 22,
   "metadata": {},
   "outputs": [
    {
     "name": "stdout",
     "output_type": "stream",
     "text": [
      "arr_2d[0,0] : 1.5\n",
      "arr_2d[0,:] :  [1.5 2.  3. ]\n",
      "arr_2d[:,0] : [1.5 4. ]\n",
      "[3. 4. 5. 6.]\n"
     ]
    }
   ],
   "source": [
    "# Slicing (i.e., accessing specific elements of the array)\n",
    "\n",
    "print(\"arr_2d[0,0] :\", arr_2d[0, 0])\n",
    "print(\"arr_2d[0,:] : \", arr_2d[0, :])\n",
    "print(\"arr_2d[:,0] :\", arr_2d[:, 0])\n",
    "\n",
    "print(arr_2d[arr_2d > 2])"
   ]
  },
  {
   "cell_type": "code",
   "execution_count": 23,
   "metadata": {},
   "outputs": [
    {
     "name": "stdout",
     "output_type": "stream",
     "text": [
      "[[0. 0. 0. 0. 0. 0. 0. 0. 0. 0.]\n",
      " [0. 0. 0. 0. 0. 0. 0. 0. 0. 0.]\n",
      " [0. 0. 0. 0. 0. 0. 0. 0. 0. 0.]\n",
      " [0. 0. 0. 0. 0. 0. 0. 0. 0. 0.]\n",
      " [0. 0. 0. 0. 0. 0. 0. 0. 0. 0.]\n",
      " [0. 0. 0. 0. 0. 0. 0. 0. 0. 0.]\n",
      " [0. 0. 0. 0. 0. 0. 0. 0. 0. 0.]\n",
      " [0. 0. 0. 0. 0. 0. 0. 0. 0. 0.]\n",
      " [0. 0. 0. 0. 0. 0. 0. 0. 0. 0.]\n",
      " [0. 0. 0. 0. 0. 0. 0. 0. 0. 0.]]\n",
      "(10, 10)\n",
      "[[1. 1. 1. 1.]\n",
      " [1. 1. 1. 1.]\n",
      " [1. 1. 1. 1.]\n",
      " [1. 1. 1. 1.]]\n",
      "(4, 4)\n",
      "[[1. 1. 1. 1. 1. 1. 1. 1.]\n",
      " [1. 1. 1. 1. 1. 1. 1. 1.]]\n",
      "(4, 4)\n"
     ]
    }
   ],
   "source": [
    "# Other types of arrays\n",
    "\n",
    "zeros = np.zeros((10, 10))\n",
    "print(zeros)\n",
    "# print the shape of zeros\n",
    "print(zeros.shape)\n",
    "\n",
    "ones = np.ones((4, 4))\n",
    "print(ones)\n",
    "# print the shape of ones\n",
    "print(ones.shape)\n",
    "\n",
    "print(ones.reshape(2, 8))\n",
    "# print the shape of ones\n",
    "print(ones.shape)"
   ]
  },
  {
   "cell_type": "code",
   "execution_count": 24,
   "metadata": {},
   "outputs": [
    {
     "name": "stdout",
     "output_type": "stream",
     "text": [
      "(1, 1000)\n",
      "[[-0.51533103  0.3651459   0.037056   -1.15068647  0.98394492 -1.160875\n",
      "   1.02742787 -0.01130862  0.38129105  0.71213789]]\n"
     ]
    }
   ],
   "source": [
    "# We can also use numpy to generate random values.\n",
    "randn = np.random.randn(1, 1000)\n",
    "# print the shape of randn\n",
    "print(randn.shape)\n",
    "\n",
    "# print the first 10 elements of randn. What happens if you re-run this code?\n",
    "print(randn[:,:10])\n"
   ]
  },
  {
   "cell_type": "code",
   "execution_count": 25,
   "metadata": {},
   "outputs": [
    {
     "name": "stdout",
     "output_type": "stream",
     "text": [
      "[[ 0.66698806  0.02581308]\n",
      " [-0.77761941  0.94863382]\n",
      " [ 0.70167179 -1.05108156]]\n"
     ]
    }
   ],
   "source": [
    "# np.seed(23)\n",
    "np.random.seed(23)\n",
    "\n",
    "# Generate a new array of random numbers, this time of shape (3, 2) and print it.\n",
    "# What happens when you re-run the code now?\n",
    "# TIP: you might want to save the result to compare the previous and the new one\n",
    "\n",
    "randn_2 = np.random.randn(3,2)\n",
    "print(randn_2)\n",
    "\n",
    "\n",
    "# Think: what does np.seed() do? (Use Google if you don't know!)\n",
    "# Answer: random seed for the pseudo random algorithm"
   ]
  },
  {
   "cell_type": "markdown",
   "metadata": {},
   "source": [
    "#### Combine arrays"
   ]
  },
  {
   "cell_type": "code",
   "execution_count": 26,
   "metadata": {},
   "outputs": [
    {
     "name": "stdout",
     "output_type": "stream",
     "text": [
      "(4, 4)\n",
      "(2, 8)\n",
      "(4, 4)\n",
      "(2, 8)\n"
     ]
    }
   ],
   "source": [
    "arr1 = np.array([[1, 2, 3, 4], [1, 2, 3, 4]])\n",
    "arr2 = np.array([[5, 6, 7, 8], [5, 6, 7 , 8]])\n",
    "\n",
    "# Print the shapes of arr1 and arr2 and cat after each of the types of concatenations.\n",
    "# Concatenating arrays is a very common operation. Make sure you understand it!\n",
    "# TIP: it might help you to print the actual cat array after each type of concatenation too\n",
    "\n",
    "\n",
    "# concatenate along the row\n",
    "cat = np.concatenate((arr1, arr2), axis=0)\n",
    "print(cat.shape)\n",
    "\n",
    "# concatenate along the column\n",
    "cat = np.concatenate((arr1, arr2), axis=1)    \n",
    "print(cat.shape)\n",
    "\n",
    "# stack arrays vertically\n",
    "cat = np.vstack((arr1, arr2))\n",
    "print(cat.shape)\n",
    "\n",
    "# stack arrays horizontally\n",
    "cat = np.hstack((arr1, arr2))\n",
    "print(cat.shape)\n"
   ]
  },
  {
   "cell_type": "markdown",
   "metadata": {},
   "source": [
    "#### Operations with arrays"
   ]
  },
  {
   "cell_type": "code",
   "execution_count": 27,
   "metadata": {},
   "outputs": [],
   "source": [
    "#Let's create a couple of vectors using numpy\n",
    "v1 = np.array([20, 30, 40, 50])\n",
    "v2 = np.arange(4)\n",
    "\n",
    "#And a couple of matrices\n",
    "mat1 = np.array([[1, 2, 3, 4], [1, 2, 3, 4]])\n",
    "mat2 = mat1.T # this is the transpose of mat1"
   ]
  },
  {
   "cell_type": "code",
   "execution_count": 28,
   "metadata": {},
   "outputs": [
    {
     "name": "stdout",
     "output_type": "stream",
     "text": [
      "[25 35 45 55]\n",
      "[[2368 2369 2370 2371]\n",
      " [2368 2369 2370 2371]]\n"
     ]
    }
   ],
   "source": [
    "# Add a number to an array of 1-D (i.e., a vector)\n",
    "print(5 + v1)\n",
    "# Compare the line above to your function vector_plus_num(vector, number) from Part 1.\n",
    "\n",
    "# Does your function work with matrices?\n",
    "\n",
    "# How do you add a number to a np.array object? Try adding 2367 to mat1\n",
    "\n",
    "print(2367 + mat1)"
   ]
  },
  {
   "cell_type": "code",
   "execution_count": 29,
   "metadata": {},
   "outputs": [
    {
     "name": "stdout",
     "output_type": "stream",
     "text": [
      "Adding two vectors [20 31 42 53]\n",
      "Subtracting two vectors [20 29 38 47]\n",
      "[0.         1.         1.41421356 1.73205081]\n",
      "[2.99573227 3.40119738 3.68887945 3.91202301]\n"
     ]
    }
   ],
   "source": [
    "# Let's try to add and subtract vectors now:\n",
    "print(\"Adding two vectors\", v1 + v2)\n",
    "print(\"Subtracting two vectors\", v1 - v2)\n",
    "\n",
    "# What happens if you try to add two vectors of different length?\n",
    "\n",
    "\n",
    "# Square root of each elemnt of v2:\n",
    "print(np.sqrt(v2))\n",
    "\n",
    "# Calculate the logarithm of each element of v1\n",
    "# TIP: check if you can do this using some numpy function!\n",
    "\n",
    "print(np.log(v1))\n",
    "\n"
   ]
  },
  {
   "cell_type": "markdown",
   "metadata": {},
   "source": [
    "### Multiplication of vectors\n",
    "\n",
    "There are a number of functions in numpy that you can use to multiply vectors and matrices.\n",
    "\n",
    "Scalar product of two vectors: np.dot(vector1, vector2)\n",
    "\n",
    "Vector product of two vectors: np.cross(x, y)"
   ]
  },
  {
   "cell_type": "code",
   "execution_count": 30,
   "metadata": {},
   "outputs": [
    {
     "name": "stdout",
     "output_type": "stream",
     "text": [
      "50.68743435250952\n",
      "50.68743435250947\n"
     ]
    }
   ],
   "source": [
    "# Calculate the scalar product of v1 and v2 using your function from part 1 and the numpy function.\n",
    "#<------------INSERT CODE HERE------------>\n",
    "\n",
    "\n",
    "# Check if the result is the same using your function from Part 1\n",
    "\n",
    "#<------------INSERT CODE HERE------------>\n",
    "\n",
    "\n",
    "v3 = np.random.randn(4000)\n",
    "v4 = np.random.randn(4000)\n",
    "# Calculate the scalar product of v3 and v4 using your function from part 1 and the numpy function.\n",
    "# Compare the time it takes to execute each of them.\n",
    "# HINT: https://stackoverflow.com/questions/7370801/measure-time-elapsed-in-python\n",
    "\n",
    "print(scalar_product(v3,v4))\n",
    "print(np.dot(v3,v4))\n",
    "\n"
   ]
  },
  {
   "cell_type": "code",
   "execution_count": 31,
   "metadata": {},
   "outputs": [
    {
     "name": "stdout",
     "output_type": "stream",
     "text": [
      "260\n"
     ]
    }
   ],
   "source": [
    "# Calculate the vector product of v1 and v2 using the numpy function.\n",
    "print(np.dot(v1,v2))"
   ]
  },
  {
   "cell_type": "markdown",
   "metadata": {},
   "source": [
    "### Matrix multiplication\n",
    "\n",
    "This can be done on numpy using: np.matmul(a, b)"
   ]
  },
  {
   "cell_type": "code",
   "execution_count": 86,
   "metadata": {},
   "outputs": [
    {
     "name": "stdout",
     "output_type": "stream",
     "text": [
      "[[1 2 3 4]\n",
      " [1 2 3 4]]\n",
      "[[1 1]\n",
      " [2 2]\n",
      " [3 3]\n",
      " [4 4]]\n",
      "[[30, 30], [30, 30]]\n",
      "[[30 30]\n",
      " [30 30]]\n"
     ]
    }
   ],
   "source": [
    "# Check the result of multiplying mat1 and mat2 using the numpy function and the one you created in part 1.\n",
    "# Check the execution time for each of them. Which one is faster? \n",
    "\n",
    "#<------------INSERT CODE HERE------------>\n",
    "print(mat1)\n",
    "print(mat2)\n",
    "print(matrix_multiplication(mat1,mat2))\n",
    "print(np.matmul(mat1, mat2))\n",
    "#<------------INSERT CODE HERE------------> "
   ]
  },
  {
   "cell_type": "markdown",
   "metadata": {},
   "source": [
    "**Plotting a function**"
   ]
  },
  {
   "cell_type": "code",
   "execution_count": 33,
   "metadata": {},
   "outputs": [],
   "source": [
    "import matplotlib.pyplot as plt"
   ]
  },
  {
   "cell_type": "code",
   "execution_count": 34,
   "metadata": {},
   "outputs": [
    {
     "ename": "NameError",
     "evalue": "name 't' is not defined",
     "output_type": "error",
     "traceback": [
      "\u001b[0;31m---------------------------------------------------------------------------\u001b[0m",
      "\u001b[0;31mNameError\u001b[0m                                 Traceback (most recent call last)",
      "\u001b[0;32m<ipython-input-34-81408edb202f>\u001b[0m in \u001b[0;36m<module>\u001b[0;34m()\u001b[0m\n\u001b[1;32m      1\u001b[0m \u001b[0mplt\u001b[0m\u001b[0;34m.\u001b[0m\u001b[0mfigure\u001b[0m\u001b[0;34m(\u001b[0m\u001b[0;34m)\u001b[0m\u001b[0;34m\u001b[0m\u001b[0m\n\u001b[0;32m----> 2\u001b[0;31m \u001b[0mplt\u001b[0m\u001b[0;34m.\u001b[0m\u001b[0mplot\u001b[0m\u001b[0;34m(\u001b[0m\u001b[0mt\u001b[0m\u001b[0;34m,\u001b[0m \u001b[0msin\u001b[0m\u001b[0;34m)\u001b[0m\u001b[0;34m\u001b[0m\u001b[0m\n\u001b[0m\u001b[1;32m      3\u001b[0m \u001b[0mplt\u001b[0m\u001b[0;34m.\u001b[0m\u001b[0mxlabel\u001b[0m\u001b[0;34m(\u001b[0m\u001b[0;34m\"Time\"\u001b[0m\u001b[0;34m)\u001b[0m\u001b[0;34m\u001b[0m\u001b[0m\n\u001b[1;32m      4\u001b[0m \u001b[0mplt\u001b[0m\u001b[0;34m.\u001b[0m\u001b[0mylabel\u001b[0m\u001b[0;34m(\u001b[0m\u001b[0;34m\"sin(1/4*pi*t)\"\u001b[0m\u001b[0;34m)\u001b[0m\u001b[0;34m\u001b[0m\u001b[0m\n\u001b[1;32m      5\u001b[0m \u001b[0mplt\u001b[0m\u001b[0;34m.\u001b[0m\u001b[0mtitle\u001b[0m\u001b[0;34m(\u001b[0m\u001b[0;34m\"Sinusoidal function\"\u001b[0m\u001b[0;34m)\u001b[0m\u001b[0;34m\u001b[0m\u001b[0m\n",
      "\u001b[0;31mNameError\u001b[0m: name 't' is not defined"
     ]
    },
    {
     "data": {
      "text/plain": [
       "<Figure size 432x288 with 0 Axes>"
      ]
     },
     "metadata": {},
     "output_type": "display_data"
    }
   ],
   "source": [
    "plt.figure()\n",
    "plt.plot(t, sin)\n",
    "plt.xlabel(\"Time\")\n",
    "plt.ylabel(\"sin(1/4*pi*t)\")\n",
    "plt.title(\"Sinusoidal function\")\n",
    "plt.show()"
   ]
  },
  {
   "cell_type": "code",
   "execution_count": 36,
   "metadata": {},
   "outputs": [
    {
     "ename": "NameError",
     "evalue": "name 'sin' is not defined",
     "output_type": "error",
     "traceback": [
      "\u001b[0;31m---------------------------------------------------------------------------\u001b[0m",
      "\u001b[0;31mNameError\u001b[0m                                 Traceback (most recent call last)",
      "\u001b[0;32m<ipython-input-36-5b852d714e91>\u001b[0m in \u001b[0;36m<module>\u001b[0;34m()\u001b[0m\n\u001b[0;32m----> 1\u001b[0;31m \u001b[0mprint\u001b[0m\u001b[0;34m(\u001b[0m\u001b[0mnp\u001b[0m\u001b[0;34m.\u001b[0m\u001b[0mmax\u001b[0m\u001b[0;34m(\u001b[0m\u001b[0msin\u001b[0m\u001b[0;34m)\u001b[0m\u001b[0;34m)\u001b[0m\u001b[0;34m\u001b[0m\u001b[0m\n\u001b[0m\u001b[1;32m      2\u001b[0m \u001b[0mprint\u001b[0m\u001b[0;34m(\u001b[0m\u001b[0mnp\u001b[0m\u001b[0;34m.\u001b[0m\u001b[0mmin\u001b[0m\u001b[0;34m(\u001b[0m\u001b[0msin\u001b[0m\u001b[0;34m)\u001b[0m\u001b[0;34m)\u001b[0m\u001b[0;34m\u001b[0m\u001b[0m\n\u001b[1;32m      3\u001b[0m \u001b[0;34m\u001b[0m\u001b[0m\n\u001b[1;32m      4\u001b[0m \u001b[0;31m## Elementwise minimum and maximum\u001b[0m\u001b[0;34m\u001b[0m\u001b[0;34m\u001b[0m\u001b[0m\n\u001b[1;32m      5\u001b[0m \u001b[0marr1\u001b[0m \u001b[0;34m=\u001b[0m \u001b[0mnp\u001b[0m\u001b[0;34m.\u001b[0m\u001b[0marray\u001b[0m\u001b[0;34m(\u001b[0m\u001b[0;34m[\u001b[0m\u001b[0;36m1\u001b[0m\u001b[0;34m,\u001b[0m \u001b[0;36m3\u001b[0m\u001b[0;34m,\u001b[0m \u001b[0;36m5\u001b[0m\u001b[0;34m,\u001b[0m \u001b[0;36m7\u001b[0m\u001b[0;34m,\u001b[0m \u001b[0;36m9\u001b[0m\u001b[0;34m]\u001b[0m\u001b[0;34m)\u001b[0m\u001b[0;34m\u001b[0m\u001b[0m\n",
      "\u001b[0;31mNameError\u001b[0m: name 'sin' is not defined"
     ]
    }
   ],
   "source": [
    "print(np.max(sin))\n",
    "print(np.min(sin))\n",
    "\n",
    "## Elementwise minimum and maximum\n",
    "arr1 = np.array([1, 3, 5, 7, 9])\n",
    "arr2 = np.array([0, 4, 3, 8, 7])\n",
    "print(np.maximum(arr1, arr2))\n",
    "print(np.minimum(arr1, arr2))"
   ]
  },
  {
   "cell_type": "code",
   "execution_count": 37,
   "metadata": {
    "scrolled": true
   },
   "outputs": [
    {
     "name": "stdout",
     "output_type": "stream",
     "text": [
      "-0.03410490846302214\n",
      "-0.025801598698322024\n",
      "0.9526166732826766\n"
     ]
    }
   ],
   "source": [
    "# Statistical summaries \n",
    "\n",
    "print(np.mean(randn))\n",
    "print(np.median(randn))\n",
    "print(np.std(randn))\n",
    "\n"
   ]
  },
  {
   "cell_type": "markdown",
   "metadata": {},
   "source": [
    "Create a 5 (channels) x 100 (samples) matrix of random integers between 0 and 543 and retrieve the following information:\n",
    "    - the max, min, mean of all samples.\n",
    "    - the mean and variance of each channel\n"
   ]
  },
  {
   "cell_type": "code",
   "execution_count": 49,
   "metadata": {},
   "outputs": [
    {
     "name": "stdout",
     "output_type": "stream",
     "text": [
      "All samples: \n",
      "    max:  542\n",
      "    min:  0\n",
      "    mean:  276.45\n",
      "By channel: \n",
      "    mean:  [298.3, 259.97, 264.03, 281.69, 278.26]\n",
      "    variance:  [144.48117524438953, 153.75073690880313, 147.9759747391447, 158.02289043046898, 158.07837423253062]\n"
     ]
    }
   ],
   "source": [
    "target_mat = np.array([[np.random.randint(0,543) for _ in range(5)] for _ in range(100)])\n",
    "\n",
    "# of all samples\n",
    "print(\"All samples: \")\n",
    "print(\"    max: \", np.max(target_mat))\n",
    "print(\"    min: \" , np.min(target_mat))\n",
    "print(\"    mean: \", np.mean(target_mat))\n",
    "\n",
    "# of each channel\n",
    "def agg_channel(mat, f):\n",
    "    return [f(mat[:, i]) for i in range(mat.shape[1])]\n",
    "\n",
    "print(\"By channel: \")\n",
    "print(\"    mean: \", agg_channel(target_mat, np.mean))\n",
    "print(\"    variance: \", agg_channel(target_mat, np.std))"
   ]
  },
  {
   "cell_type": "markdown",
   "metadata": {},
   "source": [
    "Use the function hist() from matplotlib to show the histogram of values of the third channel."
   ]
  },
  {
   "cell_type": "code",
   "execution_count": 52,
   "metadata": {},
   "outputs": [
    {
     "data": {
      "image/png": "[encoded data removed]",
      "text/plain": [
       "<Figure size 432x288 with 1 Axes>"
      ]
     },
     "metadata": {
      "needs_background": "light"
     },
     "output_type": "display_data"
    }
   ],
   "source": [
    "plt.figure()\n",
    "plt.hist([target_mat[:,2]])\n",
    "plt.title(\"Third Channel Values\")\n",
    "plt.show()"
   ]
  },
  {
   "cell_type": "code",
   "execution_count": null,
   "metadata": {},
   "outputs": [],
   "source": []
  }
 ],
 "metadata": {
  "kernelspec": {
   "display_name": "Python 3",
   "language": "python",
   "name": "python3"
  },
  "language_info": {
   "codemirror_mode": {
    "name": "ipython",
    "version": 3
   },
   "file_extension": ".py",
   "mimetype": "text/x-python",
   "name": "python",
   "nbconvert_exporter": "python",
   "pygments_lexer": "ipython3",
   "version": "3.7.0"
  }
 },
 "nbformat": 4,
 "nbformat_minor": 2
}
